{
 "cells": [
  {
   "cell_type": "markdown",
   "metadata": {},
   "source": [
    "## EDA-Exploratory Data Analysis"
   ]
  },
  {
   "cell_type": "code",
   "execution_count": 9,
   "metadata": {},
   "outputs": [],
   "source": [
    "#Import necessary imports\n",
    "import pandas as pd\n",
    "import numpy as np\n",
    "import matplotlib.pyplot as plt\n",
    "from sklearn.model_selection import train_test_split\n",
    "from sklearn.linear_model import LogisticRegression\n",
    "from sklearn.metrics import classification_report, confusion_matrix, accuracy_score\n",
    "from sklearn.preprocessing import StandardScaler\n",
    "from sklearn.ensemble import RandomForestClassifier\n",
    "from sklearn.model_selection import GridSearchCV\n",
    "from sklearn.model_selection import learning_curve\n",
    "from sklearn.tree import DecisionTreeClassifier\n",
    "from sklearn.metrics import classification_report, accuracy_score, confusion_matrix\n",
    "from sklearn.tree import export_graphviz\n"
   ]
  },
  {
   "cell_type": "code",
   "execution_count": 3,
   "metadata": {},
   "outputs": [
    {
     "data": {
      "text/html": [
       "<div>\n",
       "<style scoped>\n",
       "    .dataframe tbody tr th:only-of-type {\n",
       "        vertical-align: middle;\n",
       "    }\n",
       "\n",
       "    .dataframe tbody tr th {\n",
       "        vertical-align: top;\n",
       "    }\n",
       "\n",
       "    .dataframe thead th {\n",
       "        text-align: right;\n",
       "    }\n",
       "</style>\n",
       "<table border=\"1\" class=\"dataframe\">\n",
       "  <thead>\n",
       "    <tr style=\"text-align: right;\">\n",
       "      <th></th>\n",
       "      <th>Stress_Level</th>\n",
       "      <th>Sector</th>\n",
       "      <th>Increased_Work_Hours</th>\n",
       "      <th>Work_From_Home</th>\n",
       "      <th>Hours_Worked_Per_Day</th>\n",
       "      <th>Meetings_Per_Day</th>\n",
       "      <th>Productivity_Change</th>\n",
       "      <th>Health_Issue</th>\n",
       "      <th>Job_Security</th>\n",
       "      <th>Childcare_Responsibilities</th>\n",
       "      <th>Commuting_Changes</th>\n",
       "      <th>Technology_Adaptation</th>\n",
       "      <th>Salary_Changes</th>\n",
       "      <th>Team_Collaboration_Challenges</th>\n",
       "      <th>Affected_by_Covid</th>\n",
       "    </tr>\n",
       "  </thead>\n",
       "  <tbody>\n",
       "    <tr>\n",
       "      <th>0</th>\n",
       "      <td>Low</td>\n",
       "      <td>Retail</td>\n",
       "      <td>1</td>\n",
       "      <td>1</td>\n",
       "      <td>6.392.393.639.805.820</td>\n",
       "      <td>26.845.944.014.488.700</td>\n",
       "      <td>1</td>\n",
       "      <td>0</td>\n",
       "      <td>0</td>\n",
       "      <td>1</td>\n",
       "      <td>1</td>\n",
       "      <td>1</td>\n",
       "      <td>0</td>\n",
       "      <td>1</td>\n",
       "      <td>1</td>\n",
       "    </tr>\n",
       "    <tr>\n",
       "      <th>1</th>\n",
       "      <td>Low</td>\n",
       "      <td>IT</td>\n",
       "      <td>1</td>\n",
       "      <td>1</td>\n",
       "      <td>9.171.983.537.957.560</td>\n",
       "      <td>33.392.245.834.602.800</td>\n",
       "      <td>1</td>\n",
       "      <td>0</td>\n",
       "      <td>1</td>\n",
       "      <td>0</td>\n",
       "      <td>1</td>\n",
       "      <td>1</td>\n",
       "      <td>0</td>\n",
       "      <td>1</td>\n",
       "      <td>1</td>\n",
       "    </tr>\n",
       "    <tr>\n",
       "      <th>2</th>\n",
       "      <td>Medium</td>\n",
       "      <td>Retail</td>\n",
       "      <td>1</td>\n",
       "      <td>0</td>\n",
       "      <td>10.612.560.951.456.400</td>\n",
       "      <td>2.218.332.712.302.110</td>\n",
       "      <td>0</td>\n",
       "      <td>0</td>\n",
       "      <td>0</td>\n",
       "      <td>0</td>\n",
       "      <td>0</td>\n",
       "      <td>0</td>\n",
       "      <td>0</td>\n",
       "      <td>0</td>\n",
       "      <td>1</td>\n",
       "    </tr>\n",
       "    <tr>\n",
       "      <th>3</th>\n",
       "      <td>Medium</td>\n",
       "      <td>Education</td>\n",
       "      <td>1</td>\n",
       "      <td>1</td>\n",
       "      <td>5.546.168.647.409.510</td>\n",
       "      <td>5.150.566.193.312.910</td>\n",
       "      <td>0</td>\n",
       "      <td>0</td>\n",
       "      <td>0</td>\n",
       "      <td>0</td>\n",
       "      <td>1</td>\n",
       "      <td>0</td>\n",
       "      <td>0</td>\n",
       "      <td>0</td>\n",
       "      <td>1</td>\n",
       "    </tr>\n",
       "    <tr>\n",
       "      <th>4</th>\n",
       "      <td>Medium</td>\n",
       "      <td>Education</td>\n",
       "      <td>0</td>\n",
       "      <td>1</td>\n",
       "      <td>11.424.615.456.733.800</td>\n",
       "      <td>31.211.255.258.841.200</td>\n",
       "      <td>1</td>\n",
       "      <td>0</td>\n",
       "      <td>1</td>\n",
       "      <td>1</td>\n",
       "      <td>1</td>\n",
       "      <td>0</td>\n",
       "      <td>1</td>\n",
       "      <td>1</td>\n",
       "      <td>1</td>\n",
       "    </tr>\n",
       "  </tbody>\n",
       "</table>\n",
       "</div>"
      ],
      "text/plain": [
       "  Stress_Level     Sector  Increased_Work_Hours  Work_From_Home  \\\n",
       "0          Low     Retail                     1               1   \n",
       "1          Low         IT                     1               1   \n",
       "2       Medium     Retail                     1               0   \n",
       "3       Medium  Education                     1               1   \n",
       "4       Medium  Education                     0               1   \n",
       "\n",
       "     Hours_Worked_Per_Day        Meetings_Per_Day  Productivity_Change  \\\n",
       "0   6.392.393.639.805.820  26.845.944.014.488.700                    1   \n",
       "1   9.171.983.537.957.560  33.392.245.834.602.800                    1   \n",
       "2  10.612.560.951.456.400   2.218.332.712.302.110                    0   \n",
       "3   5.546.168.647.409.510   5.150.566.193.312.910                    0   \n",
       "4  11.424.615.456.733.800  31.211.255.258.841.200                    1   \n",
       "\n",
       "   Health_Issue  Job_Security  Childcare_Responsibilities  Commuting_Changes  \\\n",
       "0             0             0                           1                  1   \n",
       "1             0             1                           0                  1   \n",
       "2             0             0                           0                  0   \n",
       "3             0             0                           0                  1   \n",
       "4             0             1                           1                  1   \n",
       "\n",
       "   Technology_Adaptation  Salary_Changes  Team_Collaboration_Challenges  \\\n",
       "0                      1               0                              1   \n",
       "1                      1               0                              1   \n",
       "2                      0               0                              0   \n",
       "3                      0               0                              0   \n",
       "4                      0               1                              1   \n",
       "\n",
       "   Affected_by_Covid  \n",
       "0                  1  \n",
       "1                  1  \n",
       "2                  1  \n",
       "3                  1  \n",
       "4                  1  "
      ]
     },
     "execution_count": 3,
     "metadata": {},
     "output_type": "execute_result"
    }
   ],
   "source": [
    "# Load the dataset into a Pandas dataframe\n",
    "df = pd.read_csv('covid_impact_on_work_new.csv')\n",
    "df.head()"
   ]
  },
  {
   "cell_type": "code",
   "execution_count": 4,
   "metadata": {},
   "outputs": [
    {
     "name": "stdout",
     "output_type": "stream",
     "text": [
      "<class 'pandas.core.frame.DataFrame'>\n",
      "RangeIndex: 10000 entries, 0 to 9999\n",
      "Data columns (total 15 columns):\n",
      " #   Column                         Non-Null Count  Dtype \n",
      "---  ------                         --------------  ----- \n",
      " 0   Stress_Level                   10000 non-null  object\n",
      " 1   Sector                         10000 non-null  object\n",
      " 2   Increased_Work_Hours           10000 non-null  int64 \n",
      " 3   Work_From_Home                 10000 non-null  int64 \n",
      " 4   Hours_Worked_Per_Day           10000 non-null  object\n",
      " 5   Meetings_Per_Day               10000 non-null  object\n",
      " 6   Productivity_Change            10000 non-null  int64 \n",
      " 7   Health_Issue                   10000 non-null  int64 \n",
      " 8   Job_Security                   10000 non-null  int64 \n",
      " 9   Childcare_Responsibilities     10000 non-null  int64 \n",
      " 10  Commuting_Changes              10000 non-null  int64 \n",
      " 11  Technology_Adaptation          10000 non-null  int64 \n",
      " 12  Salary_Changes                 10000 non-null  int64 \n",
      " 13  Team_Collaboration_Challenges  10000 non-null  int64 \n",
      " 14  Affected_by_Covid              10000 non-null  int64 \n",
      "dtypes: int64(11), object(4)\n",
      "memory usage: 1.1+ MB\n",
      "None\n"
     ]
    }
   ],
   "source": [
    "# Print out the basic info of the dataset to vew datatypes, column names, and non-null counts\n",
    "print(df.info())"
   ]
  },
  {
   "cell_type": "code",
   "execution_count": 5,
   "metadata": {},
   "outputs": [
    {
     "name": "stdout",
     "output_type": "stream",
     "text": [
      "Index(['Stress_Level', 'Sector', 'Increased_Work_Hours', 'Work_From_Home',\n",
      "       'Hours_Worked_Per_Day', 'Meetings_Per_Day', 'Productivity_Change',\n",
      "       'Health_Issue', 'Job_Security', 'Childcare_Responsibilities',\n",
      "       'Commuting_Changes', 'Technology_Adaptation', 'Salary_Changes',\n",
      "       'Team_Collaboration_Challenges', 'Affected_by_Covid'],\n",
      "      dtype='object')\n"
     ]
    }
   ],
   "source": [
    "# Print out column names to make sure there are no leading or trailing spaces\n",
    "print(df.columns)"
   ]
  },
  {
   "cell_type": "code",
   "execution_count": 6,
   "metadata": {},
   "outputs": [
    {
     "name": "stdout",
     "output_type": "stream",
     "text": [
      "Stress_Level                     0\n",
      "Sector                           0\n",
      "Increased_Work_Hours             0\n",
      "Work_From_Home                   0\n",
      "Hours_Worked_Per_Day             0\n",
      "Meetings_Per_Day                 0\n",
      "Productivity_Change              0\n",
      "Health_Issue                     0\n",
      "Job_Security                     0\n",
      "Childcare_Responsibilities       0\n",
      "Commuting_Changes                0\n",
      "Technology_Adaptation            0\n",
      "Salary_Changes                   0\n",
      "Team_Collaboration_Challenges    0\n",
      "Affected_by_Covid                0\n",
      "dtype: int64\n"
     ]
    }
   ],
   "source": [
    "# Checking for missing values\n",
    "print(df.isnull().sum())"
   ]
  },
  {
   "cell_type": "markdown",
   "metadata": {},
   "source": [
    "## Analysis and Visualizations"
   ]
  },
  {
   "cell_type": "code",
   "execution_count": 7,
   "metadata": {},
   "outputs": [
    {
     "name": "stdout",
     "output_type": "stream",
     "text": [
      "       Increased_Work_Hours  Work_From_Home  Productivity_Change  \\\n",
      "count          10000.000000    10000.000000          10000.00000   \n",
      "mean               0.676900        0.803300              0.50220   \n",
      "std                0.467684        0.397523              0.50002   \n",
      "min                0.000000        0.000000              0.00000   \n",
      "25%                0.000000        1.000000              0.00000   \n",
      "50%                1.000000        1.000000              1.00000   \n",
      "75%                1.000000        1.000000              1.00000   \n",
      "max                1.000000        1.000000              1.00000   \n",
      "\n",
      "       Health_Issue  Job_Security  Childcare_Responsibilities  \\\n",
      "count  10000.000000  10000.000000                10000.000000   \n",
      "mean       0.301100      0.404900                    0.396700   \n",
      "std        0.458759      0.490897                    0.489237   \n",
      "min        0.000000      0.000000                    0.000000   \n",
      "25%        0.000000      0.000000                    0.000000   \n",
      "50%        0.000000      0.000000                    0.000000   \n",
      "75%        1.000000      1.000000                    1.000000   \n",
      "max        1.000000      1.000000                    1.000000   \n",
      "\n",
      "       Commuting_Changes  Technology_Adaptation  Salary_Changes  \\\n",
      "count        10000.00000           10000.000000    10000.000000   \n",
      "mean             0.50220               0.605100        0.194800   \n",
      "std              0.50002               0.488854        0.396066   \n",
      "min              0.00000               0.000000        0.000000   \n",
      "25%              0.00000               0.000000        0.000000   \n",
      "50%              1.00000               1.000000        0.000000   \n",
      "75%              1.00000               1.000000        0.000000   \n",
      "max              1.00000               1.000000        1.000000   \n",
      "\n",
      "       Team_Collaboration_Challenges  Affected_by_Covid  \n",
      "count                   10000.000000            10000.0  \n",
      "mean                        0.700600                1.0  \n",
      "std                         0.458018                0.0  \n",
      "min                         0.000000                1.0  \n",
      "25%                         0.000000                1.0  \n",
      "50%                         1.000000                1.0  \n",
      "75%                         1.000000                1.0  \n",
      "max                         1.000000                1.0  \n"
     ]
    }
   ],
   "source": [
    "# Run a statistical summary on all columns of the dataframe to get an \n",
    "# overall understanding of the data before graphing\n",
    "print(df.describe())"
   ]
  },
  {
   "cell_type": "markdown",
   "metadata": {},
   "source": [
    "# Basic Graphs"
   ]
  },
  {
   "cell_type": "code",
   "execution_count": 17,
   "metadata": {},
   "outputs": [
    {
     "data": {
      "image/png": "[encoded data removed]",
      "text/plain": [
       "<Figure size 432x288 with 1 Axes>"
      ]
     },
     "metadata": {
      "needs_background": "light"
     },
     "output_type": "display_data"
    }
   ],
   "source": [
    "# Graph the number of workers who had health issues versus those who didn't \n",
    "# Count the occurrences of each class in 'Health_Issue'\n",
    "# Map 0 to 'Not Sick' and 1 to 'Sick'\n",
    "health_issue_counts = df['Health_Issue'].value_counts()\n",
    "\n",
    "# Create a bar plot\n",
    "ax = health_issue_counts.plot(kind='bar', color=['green', 'red'])\n",
    "\n",
    "# Set custom x-tick labels\n",
    "ax.set_xticklabels(['Not Sick', 'Sick'])\n",
    "\n",
    "# Adding labels and title\n",
    "plt.xlabel('Health Issue')\n",
    "plt.ylabel('Count')\n",
    "plt.title('Distribution of Health Issue')\n",
    "plt.xticks(rotation=0)\n",
    "\n",
    "# Add value counts on top of the bars\n",
    "for i, v in enumerate(health_issue_counts):\n",
    "    ax.text(i, v + 10, str(v), ha='center', va='bottom')\n",
    "\n",
    "# Show the plot\n",
    "plt.show()"
   ]
  },
  {
   "cell_type": "markdown",
   "metadata": {},
   "source": [
    "It's important to note that the majority of workers did not have health issues during the noted period.  This is important because it may correlate with workers working from home or workers with lower stress jobs."
   ]
  },
  {
   "cell_type": "code",
   "execution_count": null,
   "metadata": {},
   "outputs": [],
   "source": []
  }
 ],
 "metadata": {
  "kernelspec": {
   "display_name": "PythonDataYaml",
   "language": "python",
   "name": "python3"
  },
  "language_info": {
   "codemirror_mode": {
    "name": "ipython",
    "version": 3
   },
   "file_extension": ".py",
   "mimetype": "text/x-python",
   "name": "python",
   "nbconvert_exporter": "python",
   "pygments_lexer": "ipython3",
   "version": "3.7.7"
  }
 },
 "nbformat": 4,
 "nbformat_minor": 2
}
