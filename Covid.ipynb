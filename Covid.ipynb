{
 "cells": [
  {
   "cell_type": "markdown",
   "metadata": {},
   "source": [
    "## EDA-Exploratory Data Analysis"
   ]
  },
  {
   "cell_type": "code",
   "execution_count": 3,
   "metadata": {},
   "outputs": [],
   "source": [
    "#Import necessary imports\n",
    "import pandas as pd"
   ]
  },
  {
   "cell_type": "code",
   "execution_count": 5,
   "metadata": {},
   "outputs": [
    {
     "data": {
      "text/html": [
       "<div>\n",
       "<style scoped>\n",
       "    .dataframe tbody tr th:only-of-type {\n",
       "        vertical-align: middle;\n",
       "    }\n",
       "\n",
       "    .dataframe tbody tr th {\n",
       "        vertical-align: top;\n",
       "    }\n",
       "\n",
       "    .dataframe thead th {\n",
       "        text-align: right;\n",
       "    }\n",
       "</style>\n",
       "<table border=\"1\" class=\"dataframe\">\n",
       "  <thead>\n",
       "    <tr style=\"text-align: right;\">\n",
       "      <th></th>\n",
       "      <th>Stress_Level</th>\n",
       "      <th>Sector</th>\n",
       "      <th>Increased_Work_Hours</th>\n",
       "      <th>Work_From_Home</th>\n",
       "      <th>Hours_Worked_Per_Day</th>\n",
       "      <th>Meetings_Per_Day</th>\n",
       "      <th>Productivity_Change</th>\n",
       "      <th>Health_Issue</th>\n",
       "      <th>Job_Security</th>\n",
       "      <th>Childcare_Responsibilities</th>\n",
       "      <th>Commuting_Changes</th>\n",
       "      <th>Technology_Adaptation</th>\n",
       "      <th>Salary_Changes</th>\n",
       "      <th>Team_Collaboration_Challenges</th>\n",
       "      <th>Affected_by_Covid</th>\n",
       "    </tr>\n",
       "  </thead>\n",
       "  <tbody>\n",
       "    <tr>\n",
       "      <th>0</th>\n",
       "      <td>Low</td>\n",
       "      <td>Retail</td>\n",
       "      <td>1</td>\n",
       "      <td>1</td>\n",
       "      <td>6.392.393.639.805.820</td>\n",
       "      <td>26.845.944.014.488.700</td>\n",
       "      <td>1</td>\n",
       "      <td>0</td>\n",
       "      <td>0</td>\n",
       "      <td>1</td>\n",
       "      <td>1</td>\n",
       "      <td>1</td>\n",
       "      <td>0</td>\n",
       "      <td>1</td>\n",
       "      <td>1</td>\n",
       "    </tr>\n",
       "    <tr>\n",
       "      <th>1</th>\n",
       "      <td>Low</td>\n",
       "      <td>IT</td>\n",
       "      <td>1</td>\n",
       "      <td>1</td>\n",
       "      <td>9.171.983.537.957.560</td>\n",
       "      <td>33.392.245.834.602.800</td>\n",
       "      <td>1</td>\n",
       "      <td>0</td>\n",
       "      <td>1</td>\n",
       "      <td>0</td>\n",
       "      <td>1</td>\n",
       "      <td>1</td>\n",
       "      <td>0</td>\n",
       "      <td>1</td>\n",
       "      <td>1</td>\n",
       "    </tr>\n",
       "    <tr>\n",
       "      <th>2</th>\n",
       "      <td>Medium</td>\n",
       "      <td>Retail</td>\n",
       "      <td>1</td>\n",
       "      <td>0</td>\n",
       "      <td>10.612.560.951.456.400</td>\n",
       "      <td>2.218.332.712.302.110</td>\n",
       "      <td>0</td>\n",
       "      <td>0</td>\n",
       "      <td>0</td>\n",
       "      <td>0</td>\n",
       "      <td>0</td>\n",
       "      <td>0</td>\n",
       "      <td>0</td>\n",
       "      <td>0</td>\n",
       "      <td>1</td>\n",
       "    </tr>\n",
       "    <tr>\n",
       "      <th>3</th>\n",
       "      <td>Medium</td>\n",
       "      <td>Education</td>\n",
       "      <td>1</td>\n",
       "      <td>1</td>\n",
       "      <td>5.546.168.647.409.510</td>\n",
       "      <td>5.150.566.193.312.910</td>\n",
       "      <td>0</td>\n",
       "      <td>0</td>\n",
       "      <td>0</td>\n",
       "      <td>0</td>\n",
       "      <td>1</td>\n",
       "      <td>0</td>\n",
       "      <td>0</td>\n",
       "      <td>0</td>\n",
       "      <td>1</td>\n",
       "    </tr>\n",
       "    <tr>\n",
       "      <th>4</th>\n",
       "      <td>Medium</td>\n",
       "      <td>Education</td>\n",
       "      <td>0</td>\n",
       "      <td>1</td>\n",
       "      <td>11.424.615.456.733.800</td>\n",
       "      <td>31.211.255.258.841.200</td>\n",
       "      <td>1</td>\n",
       "      <td>0</td>\n",
       "      <td>1</td>\n",
       "      <td>1</td>\n",
       "      <td>1</td>\n",
       "      <td>0</td>\n",
       "      <td>1</td>\n",
       "      <td>1</td>\n",
       "      <td>1</td>\n",
       "    </tr>\n",
       "  </tbody>\n",
       "</table>\n",
       "</div>"
      ],
      "text/plain": [
       "  Stress_Level     Sector  Increased_Work_Hours  Work_From_Home  \\\n",
       "0          Low     Retail                     1               1   \n",
       "1          Low         IT                     1               1   \n",
       "2       Medium     Retail                     1               0   \n",
       "3       Medium  Education                     1               1   \n",
       "4       Medium  Education                     0               1   \n",
       "\n",
       "     Hours_Worked_Per_Day        Meetings_Per_Day  Productivity_Change  \\\n",
       "0   6.392.393.639.805.820  26.845.944.014.488.700                    1   \n",
       "1   9.171.983.537.957.560  33.392.245.834.602.800                    1   \n",
       "2  10.612.560.951.456.400   2.218.332.712.302.110                    0   \n",
       "3   5.546.168.647.409.510   5.150.566.193.312.910                    0   \n",
       "4  11.424.615.456.733.800  31.211.255.258.841.200                    1   \n",
       "\n",
       "   Health_Issue  Job_Security  Childcare_Responsibilities  Commuting_Changes  \\\n",
       "0             0             0                           1                  1   \n",
       "1             0             1                           0                  1   \n",
       "2             0             0                           0                  0   \n",
       "3             0             0                           0                  1   \n",
       "4             0             1                           1                  1   \n",
       "\n",
       "   Technology_Adaptation  Salary_Changes  Team_Collaboration_Challenges  \\\n",
       "0                      1               0                              1   \n",
       "1                      1               0                              1   \n",
       "2                      0               0                              0   \n",
       "3                      0               0                              0   \n",
       "4                      0               1                              1   \n",
       "\n",
       "   Affected_by_Covid  \n",
       "0                  1  \n",
       "1                  1  \n",
       "2                  1  \n",
       "3                  1  \n",
       "4                  1  "
      ]
     },
     "execution_count": 5,
     "metadata": {},
     "output_type": "execute_result"
    }
   ],
   "source": [
    "# Load the dataset into a Pandas dataframe\n",
    "df = pd.read_csv('covid_impact_on_work_new.csv')\n",
    "df.head()"
   ]
  },
  {
   "cell_type": "code",
   "execution_count": 6,
   "metadata": {},
   "outputs": [
    {
     "name": "stdout",
     "output_type": "stream",
     "text": [
      "<class 'pandas.core.frame.DataFrame'>\n",
      "RangeIndex: 10000 entries, 0 to 9999\n",
      "Data columns (total 15 columns):\n",
      " #   Column                         Non-Null Count  Dtype \n",
      "---  ------                         --------------  ----- \n",
      " 0   Stress_Level                   10000 non-null  object\n",
      " 1   Sector                         10000 non-null  object\n",
      " 2   Increased_Work_Hours           10000 non-null  int64 \n",
      " 3   Work_From_Home                 10000 non-null  int64 \n",
      " 4   Hours_Worked_Per_Day           10000 non-null  object\n",
      " 5   Meetings_Per_Day               10000 non-null  object\n",
      " 6   Productivity_Change            10000 non-null  int64 \n",
      " 7   Health_Issue                   10000 non-null  int64 \n",
      " 8   Job_Security                   10000 non-null  int64 \n",
      " 9   Childcare_Responsibilities     10000 non-null  int64 \n",
      " 10  Commuting_Changes              10000 non-null  int64 \n",
      " 11  Technology_Adaptation          10000 non-null  int64 \n",
      " 12  Salary_Changes                 10000 non-null  int64 \n",
      " 13  Team_Collaboration_Challenges  10000 non-null  int64 \n",
      " 14  Affected_by_Covid              10000 non-null  int64 \n",
      "dtypes: int64(11), object(4)\n",
      "memory usage: 1.1+ MB\n",
      "None\n"
     ]
    }
   ],
   "source": [
    "# Print out the basic info of the dataset to vew datatypes, column names, and non-null counts\n",
    "print(df.info())"
   ]
  },
  {
   "cell_type": "code",
   "execution_count": null,
   "metadata": {},
   "outputs": [
    {
     "name": "stdout",
     "output_type": "stream",
     "text": [
      "Index(['Stress_Level', 'Sector', 'Increased_Work_Hours', 'Work_From_Home',\n",
      "       'Hours_Worked_Per_Day', 'Meetings_Per_Day', 'Productivity_Change',\n",
      "       'Health_Issue', 'Job_Security', 'Childcare_Responsibilities',\n",
      "       'Commuting_Changes', 'Technology_Adaptation', 'Salary_Changes',\n",
      "       'Team_Collaboration_Challenges', 'Affected_by_Covid'],\n",
      "      dtype='object')\n"
     ]
    }
   ],
   "source": [
    "# Print out column names to make sure there are no leading spaces\n",
    "print(df.columns)"
   ]
  },
  {
   "cell_type": "code",
   "execution_count": 8,
   "metadata": {},
   "outputs": [
    {
     "name": "stdout",
     "output_type": "stream",
     "text": [
      "Stress_Level                     0\n",
      "Sector                           0\n",
      "Increased_Work_Hours             0\n",
      "Work_From_Home                   0\n",
      "Hours_Worked_Per_Day             0\n",
      "Meetings_Per_Day                 0\n",
      "Productivity_Change              0\n",
      "Health_Issue                     0\n",
      "Job_Security                     0\n",
      "Childcare_Responsibilities       0\n",
      "Commuting_Changes                0\n",
      "Technology_Adaptation            0\n",
      "Salary_Changes                   0\n",
      "Team_Collaboration_Challenges    0\n",
      "Affected_by_Covid                0\n",
      "dtype: int64\n"
     ]
    }
   ],
   "source": [
    "# Checking for missing values\n",
    "print(df.isnull().sum())"
   ]
  }
 ],
 "metadata": {
  "kernelspec": {
   "display_name": "pyspark-env",
   "language": "python",
   "name": "pyspark-env"
  },
  "language_info": {
   "codemirror_mode": {
    "name": "ipython",
    "version": 3
   },
   "file_extension": ".py",
   "mimetype": "text/x-python",
   "name": "python",
   "nbconvert_exporter": "python",
   "pygments_lexer": "ipython3",
   "version": "3.11.5"
  }
 },
 "nbformat": 4,
 "nbformat_minor": 2
}
